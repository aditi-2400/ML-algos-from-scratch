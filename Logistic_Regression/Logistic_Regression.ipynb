{
 "cells": [
  {
   "cell_type": "markdown",
   "id": "ebe95e5a",
   "metadata": {},
   "source": [
    "# Logistic Classifier"
   ]
  },
  {
   "cell_type": "code",
   "execution_count": 2,
   "id": "fb3c3875",
   "metadata": {},
   "outputs": [],
   "source": [
    "import numpy as np\n",
    "import matplotlib.pyplot as plt\n",
    "import h5py\n",
    "import json\n",
    "from sklearn.model_selection import train_test_split"
   ]
  },
  {
   "cell_type": "code",
   "execution_count": 3,
   "id": "a972049d",
   "metadata": {},
   "outputs": [],
   "source": [
    "#Extracting x and y data\n",
    "with h5py.File('mnist_testdata.hdf5', 'r') as hf:\n",
    "    xdata = hf['xdata'][:]\n",
    "    ydata = hf['ydata'][:]"
   ]
  },
  {
   "cell_type": "code",
   "execution_count": 4,
   "id": "7fafe80c",
   "metadata": {},
   "outputs": [
    {
     "data": {
      "text/plain": [
       "(10000, 784)"
      ]
     },
     "execution_count": 4,
     "metadata": {},
     "output_type": "execute_result"
    }
   ],
   "source": [
    "xdata.shape"
   ]
  },
  {
   "cell_type": "code",
   "execution_count": 5,
   "id": "0d216850",
   "metadata": {},
   "outputs": [
    {
     "data": {
      "text/plain": [
       "array([[0., 0., 0., ..., 1., 0., 0.],\n",
       "       [0., 0., 1., ..., 0., 0., 0.],\n",
       "       [0., 1., 0., ..., 0., 0., 0.],\n",
       "       ...,\n",
       "       [0., 0., 0., ..., 0., 0., 0.],\n",
       "       [0., 0., 0., ..., 0., 0., 0.],\n",
       "       [0., 0., 0., ..., 0., 0., 0.]])"
      ]
     },
     "execution_count": 5,
     "metadata": {},
     "output_type": "execute_result"
    }
   ],
   "source": [
    "ydata"
   ]
  },
  {
   "cell_type": "code",
   "execution_count": 6,
   "id": "13e73692",
   "metadata": {},
   "outputs": [
    {
     "data": {
      "text/plain": [
       "(10000, 10)"
      ]
     },
     "execution_count": 6,
     "metadata": {},
     "output_type": "execute_result"
    }
   ],
   "source": [
    "ydata.shape"
   ]
  },
  {
   "cell_type": "code",
   "execution_count": 7,
   "id": "5b500011",
   "metadata": {},
   "outputs": [
    {
     "data": {
      "text/plain": [
       "(10000,)"
      ]
     },
     "execution_count": 7,
     "metadata": {},
     "output_type": "execute_result"
    }
   ],
   "source": [
    "y_label = np.argmax(ydata,axis=1)\n",
    "y_label = np.where(y_label == 2,1,0) #1 if its 2, 0 otherwise\n",
    "y_label.shape"
   ]
  },
  {
   "cell_type": "code",
   "execution_count": 8,
   "id": "44e6adcb",
   "metadata": {},
   "outputs": [],
   "source": [
    "def sigmoid(X):\n",
    "    return 1/(1+np.exp(-X))"
   ]
  },
  {
   "cell_type": "code",
   "execution_count": 9,
   "id": "de1d246b",
   "metadata": {},
   "outputs": [],
   "source": [
    "def init(xdata):\n",
    "    n_samples, n_features = xdata.shape\n",
    "    init_weights = np.random.randn(n_features)\n",
    "    init_bias = np.random.randn()\n",
    "    return init_weights,init_bias"
   ]
  },
  {
   "cell_type": "code",
   "execution_count": 10,
   "id": "883836b2",
   "metadata": {},
   "outputs": [],
   "source": [
    "def feed_forward(X,weights,bias):\n",
    "    a = np.dot(X,weights) + bias\n",
    "    yhat = sigmoid(a)\n",
    "    return yhat"
   ]
  },
  {
   "cell_type": "code",
   "execution_count": 11,
   "id": "4cae0f37",
   "metadata": {},
   "outputs": [],
   "source": [
    "def compute_loss(y_label,y_pred):\n",
    "    epsilon = 1e-9   #to avoid log0 calculations\n",
    "    y1 = y_label*np.log(y_pred + epsilon)\n",
    "    y2 = (1-y_label)*np.log(1-y_pred + epsilon)\n",
    "    return -np.mean(y1+y2)"
   ]
  },
  {
   "cell_type": "code",
   "execution_count": 12,
   "id": "c4a6868c",
   "metadata": {},
   "outputs": [],
   "source": [
    "def compute_accuracy(y_label,y_pred):\n",
    "    y_pred = np.round(y_pred)\n",
    "    return np.mean(y_label == y_pred)"
   ]
  },
  {
   "cell_type": "code",
   "execution_count": 13,
   "id": "5d82b1c1",
   "metadata": {},
   "outputs": [],
   "source": [
    "def fit(x_train,y_train,x_test,y_test,lr,l2,epochs):\n",
    "    weights,bias = init(x_train)\n",
    "    train_loss = []\n",
    "    test_loss = []\n",
    "    train_accuracy = []\n",
    "    test_accuracy = []\n",
    "    for _ in range(epochs):\n",
    "        train_pred = np.zeros(x_train.shape[0])  # Initialize as NumPy array\n",
    "        test_pred = np.zeros(x_test.shape[0])\n",
    "        for i in range(x_train.shape[0]):\n",
    "            yhat = feed_forward(x_train[i],weights,bias)\n",
    "            dw = (x_train[i] * yhat * (1 - yhat) * (y_train[i] - yhat) + 2 * l2 * weights) #adding l2 regularization parameter\n",
    "            db = yhat * (1 - yhat) * (y_train[i] - yhat)\n",
    "            weights += lr * dw\n",
    "            bias += lr * db\n",
    "        for j in range(x_train.shape[0]):\n",
    "            train_pred[j] = feed_forward(x_train[j],weights,bias)\n",
    "        loss1 = compute_loss(y_train,train_pred)\n",
    "        accuracy1 = compute_accuracy(y_train,train_pred)\n",
    "        train_loss.append(loss1)\n",
    "        train_accuracy.append(accuracy1)\n",
    "        for i in range(x_test.shape[0]):\n",
    "            test_pred[i] = feed_forward(x_test[i],weights,bias)\n",
    "        loss2 = compute_loss(y_test,test_pred)\n",
    "        accuracy2 = compute_accuracy(y_test,test_pred)\n",
    "        test_loss.append(loss2)\n",
    "        test_accuracy.append(accuracy2)\n",
    "    return weights,bias,train_loss,test_loss,train_accuracy,test_accuracy\n",
    "        "
   ]
  },
  {
   "cell_type": "code",
   "execution_count": 44,
   "id": "8f7bbf36",
   "metadata": {},
   "outputs": [
    {
     "data": {
      "text/plain": [
       "(7500, 784)"
      ]
     },
     "execution_count": 44,
     "metadata": {},
     "output_type": "execute_result"
    }
   ],
   "source": [
    "x_train, x_test, y_train, y_test = train_test_split(xdata, y_label, test_size=0.25, random_state=15)\n",
    "x_train.shape"
   ]
  },
  {
   "cell_type": "code",
   "execution_count": 52,
   "id": "d8fc5cfb",
   "metadata": {},
   "outputs": [],
   "source": [
    "#tested with 0.01 0.0001 and 0.00001 and got the following results\n",
    "# 0.01 too high -> model was diverging\n",
    "# 0.0001 optimal\n",
    "# 0.00001 too slow -> model did not converge until 200 epochs\n",
    "\n",
    "weights,bias,train_loss,test_loss,train_accuracy,test_accuracy = fit(x_train,y_train,x_test,y_test,0.0001,0.00001,40)"
   ]
  },
  {
   "cell_type": "code",
   "execution_count": 66,
   "id": "5cd03d50",
   "metadata": {},
   "outputs": [],
   "source": [
    "outFile = 'HW4_aditi_model_weights.hdf5'\n",
    "\n",
    "with h5py.File(outFile, 'w') as hf:\n",
    "    hf.create_dataset('w', data = np.asarray(weights))\n",
    "    hf.create_dataset('b', data = np.asarray(bias))"
   ]
  },
  {
   "cell_type": "code",
   "execution_count": 53,
   "id": "a33e58f0",
   "metadata": {},
   "outputs": [
    {
     "data": {
      "text/plain": [
       "<function matplotlib.pyplot.show(close=None, block=None)>"
      ]
     },
     "execution_count": 53,
     "metadata": {},
     "output_type": "execute_result"
    },
    {
     "data": {
      "image/png": "[encoded data removed]",
      "text/plain": [
       "<Figure size 432x288 with 1 Axes>"
      ]
     },
     "metadata": {
      "needs_background": "light"
     },
     "output_type": "display_data"
    }
   ],
   "source": [
    "#plotting the training and testing loss\n",
    "epoch = [i for i in range(1,41,1)]\n",
    "plt.plot(epoch,train_loss , label='train_log_loss')\n",
    "plt.plot(epoch,test_loss, label='test_log_loss')\n",
    "plt.xlabel(\"epoch number\")\n",
    "plt.ylabel(\"log loss\")\n",
    "plt.legend()\n",
    "plt.show"
   ]
  },
  {
   "cell_type": "code",
   "execution_count": 54,
   "id": "3f79be73",
   "metadata": {},
   "outputs": [
    {
     "data": {
      "image/png": "[encoded data removed]",
      "text/plain": [
       "<Figure size 432x288 with 1 Axes>"
      ]
     },
     "metadata": {
      "needs_background": "light"
     },
     "output_type": "display_data"
    }
   ],
   "source": [
    "#plotting training and testing accuracy over iterations\n",
    "\n",
    "plt.plot(range(len(train_accuracy)), train_accuracy, label='Training Accuracy')\n",
    "plt.plot(range(len(test_accuracy)), test_accuracy, label='Test Accuracy')\n",
    "plt.xlabel('Iterations')\n",
    "plt.ylabel('Accuracy')\n",
    "plt.title('Training and Test Accuracy vs Iterations')\n",
    "plt.legend()\n",
    "plt.show()"
   ]
  },
  {
   "cell_type": "code",
   "execution_count": 55,
   "id": "904544f3",
   "metadata": {},
   "outputs": [],
   "source": [
    "def predict(X,weights,bias,y_true):\n",
    "    preds = np.zeros(X.shape[0])\n",
    "    for i in range(X.shape[0]):\n",
    "        y = feed_forward(X[i],weights,bias)\n",
    "        preds[i]= y\n",
    "    return compute_accuracy(y_true,preds)\n",
    "    "
   ]
  },
  {
   "cell_type": "code",
   "execution_count": 56,
   "id": "eae459c8",
   "metadata": {},
   "outputs": [
    {
     "name": "stdout",
     "output_type": "stream",
     "text": [
      "0.8768\n"
     ]
    }
   ],
   "source": [
    "training_accuracy = predict(x_train,weights,bias,y_train)\n",
    "print(training_accuracy)"
   ]
  },
  {
   "cell_type": "code",
   "execution_count": 57,
   "id": "43a7884d",
   "metadata": {},
   "outputs": [
    {
     "name": "stdout",
     "output_type": "stream",
     "text": [
      "0.8812\n"
     ]
    }
   ],
   "source": [
    "testing_accuracy = predict(x_test,weights,bias,y_test)\n",
    "print(testing_accuracy)"
   ]
  },
  {
   "cell_type": "markdown",
   "id": "ea854c88",
   "metadata": {},
   "source": [
    "# L1 regularization"
   ]
  },
  {
   "cell_type": "code",
   "execution_count": 59,
   "id": "01a2bd6f",
   "metadata": {},
   "outputs": [],
   "source": [
    "def fit_l1(x_train,y_train,x_test,y_test,lr,l1,epochs):\n",
    "    weights,bias = init(x_train)\n",
    "    train_loss_l1 = []\n",
    "    test_loss_l1 = []\n",
    "    train_accuracy_l1 = []\n",
    "    test_accuracy_l1 = []\n",
    "    for _ in range(epochs):\n",
    "        train_pred_l1 = np.zeros(x_train.shape[0])  # Initialize as NumPy array\n",
    "        test_pred_l1 = np.zeros(x_test.shape[0])\n",
    "        for i in range(x_train.shape[0]):\n",
    "            yhat = feed_forward(x_train[i],weights,bias)\n",
    "            dw = (x_train[i] * yhat * (1 - yhat) * (y_train[i] - yhat)) \n",
    "            db = yhat * (1 - yhat) * (y_train[i] - yhat)\n",
    "            weights += lr * dw - lr * l1 * np.sign(weights) #adding l1 regularization parameter\n",
    "            bias += lr * db\n",
    "        for j in range(x_train.shape[0]):\n",
    "            train_pred_l1[j] = feed_forward(x_train[j],weights,bias)\n",
    "        loss1 = compute_loss(y_train,train_pred_l1)\n",
    "        accuracy1 = compute_accuracy(y_train,train_pred_l1)\n",
    "        train_loss_l1.append(loss1)\n",
    "        train_accuracy_l1.append(accuracy1)\n",
    "        for i in range(x_test.shape[0]):\n",
    "            test_pred_l1[i] = feed_forward(x_test[i],weights,bias)\n",
    "        loss2 = compute_loss(y_test,test_pred_l1)\n",
    "        accuracy2 = compute_accuracy(y_test,test_pred_l1)\n",
    "        test_loss_l1.append(loss2)\n",
    "        test_accuracy_l1.append(accuracy2)\n",
    "    return weights_l1,bias_l1,train_loss_l1,test_loss_l1,train_accuracy_l1,test_accuracy_l1"
   ]
  },
  {
   "cell_type": "code",
   "execution_count": 60,
   "id": "8ec55b93",
   "metadata": {},
   "outputs": [],
   "source": [
    "weights_l1,bias_l1,train_loss_l1,test_loss_l1,train_accuracy_l1,test_accuracy_l1 = fit(x_train,y_train,x_test,y_test,0.0001,0.00001,40)"
   ]
  },
  {
   "cell_type": "code",
   "execution_count": 61,
   "id": "45bf4fae",
   "metadata": {},
   "outputs": [
    {
     "data": {
      "text/plain": [
       "<function matplotlib.pyplot.show(close=None, block=None)>"
      ]
     },
     "execution_count": 61,
     "metadata": {},
     "output_type": "execute_result"
    },
    {
     "data": {
      "image/png": "[encoded data removed]",
      "text/plain": [
       "<Figure size 432x288 with 1 Axes>"
      ]
     },
     "metadata": {
      "needs_background": "light"
     },
     "output_type": "display_data"
    }
   ],
   "source": [
    "#plotting the training and testing loss\n",
    "epoch = [i for i in range(1,41,1)]\n",
    "plt.plot(epoch,train_loss_l1 , label='train_log_loss_l1')\n",
    "plt.plot(epoch,test_loss_l1, label='test_log_loss_l1')\n",
    "plt.xlabel(\"epoch number\")\n",
    "plt.ylabel(\"log loss l1\")\n",
    "plt.legend()\n",
    "plt.show"
   ]
  },
  {
   "cell_type": "code",
   "execution_count": 62,
   "id": "0189723f",
   "metadata": {},
   "outputs": [
    {
     "data": {
      "image/png": "[encoded data removed]",
      "text/plain": [
       "<Figure size 432x288 with 1 Axes>"
      ]
     },
     "metadata": {
      "needs_background": "light"
     },
     "output_type": "display_data"
    }
   ],
   "source": [
    "#plotting training and testing accuracy over iterations\n",
    "\n",
    "plt.plot(range(len(train_accuracy_l1)), train_accuracy_l1, label='Training Accuracy')\n",
    "plt.plot(range(len(test_accuracy_l1)), test_accuracy_l1, label='Test Accuracy')\n",
    "plt.xlabel('Iterations')\n",
    "plt.ylabel('Accuracy')\n",
    "plt.title('Training and Test Accuracy vs Iterations')\n",
    "plt.legend()\n",
    "plt.show()"
   ]
  },
  {
   "cell_type": "code",
   "execution_count": 64,
   "id": "df56d2be",
   "metadata": {},
   "outputs": [
    {
     "name": "stdout",
     "output_type": "stream",
     "text": [
      "0.8670666666666667\n"
     ]
    }
   ],
   "source": [
    "training_accuracy_l1 = predict(x_train,weights_l1,bias_l1,y_train)\n",
    "print(training_accuracy_l1)"
   ]
  },
  {
   "cell_type": "code",
   "execution_count": 65,
   "id": "5ce06f3f",
   "metadata": {},
   "outputs": [
    {
     "name": "stdout",
     "output_type": "stream",
     "text": [
      "0.8752\n"
     ]
    }
   ],
   "source": [
    "testing_accuracy_l1 = predict(x_test,weights_l1,bias_l1,y_test)\n",
    "print(testing_accuracy_l1)"
   ]
  },
  {
   "cell_type": "markdown",
   "id": "90334c53",
   "metadata": {},
   "source": [
    "# Results\n",
    "Without using regularization:\n",
    "epochs: 40\n",
    "Learning rate: 0.0001\n",
    "training accuracy: 81.45%\n",
    "testing accuracy:  83.08%\n",
    "\n",
    "\n",
    "\n",
    "Using L2 regularization:\n",
    "regularization parameter: 0.0001\n",
    "epochs: 40\n",
    "Learning rate: 0.0001\n",
    "training accuracy: 85.52%\n",
    "testing accuracy:  85.28%\n",
    "\n",
    "\n",
    "\n",
    "regularization parameter: 0.00001\n",
    "epochs: 40\n",
    "Learning rate: 0.0001\n",
    "training accuracy: 87.68%\n",
    "testing accuracy:  88.12%\n",
    "\n",
    "\n",
    "\n",
    "Using L1 regularization:\n",
    "regularization parameter: 0.00001\n",
    "epochs: 40\n",
    "Learning rate: 0.0001\n",
    "training accuracy: 86.70%\n",
    "testing accuracy:  87.52%"
   ]
  },
  {
   "cell_type": "markdown",
   "id": "9609658b",
   "metadata": {},
   "source": [
    "After using regularization training and testing accuracy increased and overfitting decreased as we got a better test accuracy. There is not much difference between L1 and L2 regularizations in terms of accuracies though L2 performs slightly better."
   ]
  },
  {
   "cell_type": "markdown",
   "id": "14153b59",
   "metadata": {},
   "source": [
    "Used the negative log likelihood to establish model convergence. Monitored the log loss over epochs to see if its converging or diverging. If the log loss is decreasing and constant then the model has converged"
   ]
  },
  {
   "cell_type": "code",
   "execution_count": null,
   "id": "af95c6d9",
   "metadata": {},
   "outputs": [],
   "source": []
  }
 ],
 "metadata": {
  "kernelspec": {
   "display_name": "Python 3 (ipykernel)",
   "language": "python",
   "name": "python3"
  },
  "language_info": {
   "codemirror_mode": {
    "name": "ipython",
    "version": 3
   },
   "file_extension": ".py",
   "mimetype": "text/x-python",
   "name": "python",
   "nbconvert_exporter": "python",
   "pygments_lexer": "ipython3",
   "version": "3.9.7"
  }
 },
 "nbformat": 4,
 "nbformat_minor": 5
}
